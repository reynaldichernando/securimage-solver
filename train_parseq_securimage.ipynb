{
  "nbformat": 4,
  "nbformat_minor": 0,
  "metadata": {
    "colab": {
      "provenance": []
    },
    "kernelspec": {
      "name": "python3",
      "display_name": "Python 3"
    },
    "language_info": {
      "name": "python"
    },
    "accelerator": "GPU",
    "gpuClass": "standard"
  },
  "cells": [
    {
      "cell_type": "code",
      "execution_count": null,
      "metadata": {
        "colab": {
          "base_uri": "https://localhost:8080/"
        },
        "id": "-kY4-X4YlKT2",
        "outputId": "0dd9c35d-0476-4045-8f8e-0d7b817b9b1f"
      },
      "outputs": [
        {
          "output_type": "stream",
          "name": "stdout",
          "text": [
            "Cloning into 'parseq'...\n",
            "remote: Enumerating objects: 427, done.\u001b[K\n",
            "remote: Counting objects: 100% (127/127), done.\u001b[K\n",
            "remote: Compressing objects: 100% (39/39), done.\u001b[K\n",
            "remote: Total 427 (delta 99), reused 100 (delta 88), pack-reused 300\u001b[K\n",
            "Receiving objects: 100% (427/427), 1.17 MiB | 25.47 MiB/s, done.\n",
            "Resolving deltas: 100% (235/235), done.\n"
          ]
        }
      ],
      "source": [
        "!git clone https://github.com/reynaldichernando/parseq.git"
      ]
    },
    {
      "cell_type": "markdown",
      "source": [
        "## Installing packages\n"
      ],
      "metadata": {
        "id": "v5M6qSbuQ9qi"
      }
    },
    {
      "cell_type": "code",
      "source": [
        "%cd parseq\n",
        "!pip install -r requirements.txt\n",
        "!pip install -e .\n",
        "\n",
        "# need to adjust these packages so that colab works nicely \n",
        "!pip uninstall -y torchtext\n",
        "!pip install setuptools==59.5.0"
      ],
      "metadata": {
        "colab": {
          "base_uri": "https://localhost:8080/"
        },
        "id": "K3HBLk1SlNZy",
        "outputId": "d617e4c3-8263-40c0-e979-3072f16b61e6"
      },
      "execution_count": null,
      "outputs": [
        {
          "output_type": "stream",
          "name": "stdout",
          "text": [
            "[Errno 2] No such file or directory: 'parseq'\n",
            "/content\n",
            "\u001b[31mERROR: Could not open requirements file: [Errno 2] No such file or directory: 'requirements.txt'\u001b[0m\u001b[31m\n",
            "\u001b[0mLooking in indexes: https://pypi.org/simple, https://us-python.pkg.dev/colab-wheels/public/simple/\n",
            "Obtaining file:///content\n",
            "\u001b[31mERROR: file:///content does not appear to be a Python project: neither 'setup.py' nor 'pyproject.toml' found.\u001b[0m\u001b[31m\n",
            "\u001b[0m\u001b[33mWARNING: Skipping torchtext as it is not installed.\u001b[0m\u001b[33m\n",
            "\u001b[0mLooking in indexes: https://pypi.org/simple, https://us-python.pkg.dev/colab-wheels/public/simple/\n",
            "Requirement already satisfied: setuptools==59.5.0 in /usr/local/lib/python3.9/dist-packages (59.5.0)\n"
          ]
        }
      ]
    },
    {
      "cell_type": "markdown",
      "source": [
        "## You will need to upload data.zip generated from running convert_securimage_data.py"
      ],
      "metadata": {
        "id": "LXQ5jFRecsQj"
      }
    },
    {
      "cell_type": "code",
      "source": [
        "!cp /content/data.zip /content/parseq/data.zip\n",
        "!unzip data.zip"
      ],
      "metadata": {
        "id": "FTG-GaASmneW",
        "colab": {
          "base_uri": "https://localhost:8080/"
        },
        "outputId": "9384c335-4267-4ecf-d165-6eee17b1daa8"
      },
      "execution_count": null,
      "outputs": [
        {
          "output_type": "stream",
          "name": "stdout",
          "text": [
            "Archive:  data.zip\n",
            "   creating: data/\n",
            "   creating: data/test/\n",
            "   creating: data/test/real/\n",
            "  inflating: data/test/real/lock.mdb  \n",
            "  inflating: data/test/real/data.mdb  \n",
            "   creating: data/train/\n",
            "   creating: data/train/real/\n",
            "  inflating: data/train/real/lock.mdb  \n",
            "  inflating: data/train/real/data.mdb  \n",
            "   creating: data/val/\n",
            "  inflating: data/val/lock.mdb       \n",
            "  inflating: data/val/data.mdb       \n"
          ]
        }
      ]
    },
    {
      "cell_type": "code",
      "source": [
        "!python train.py pretrained=parseq-tiny"
      ],
      "metadata": {
        "colab": {
          "base_uri": "https://localhost:8080/"
        },
        "id": "YZqkDzWecPVS",
        "outputId": "dbd09f73-c4a6-4457-abb9-fdf3d36eb631"
      },
      "execution_count": null,
      "outputs": [
        {
          "output_type": "stream",
          "name": "stdout",
          "text": [
            "Downloading: \"https://github.com/baudm/parseq/releases/download/v1.0.0/parseq_tiny-e7a21b54.pt\" to /root/.cache/torch/hub/checkpoints/parseq_tiny-e7a21b54.pt\n",
            "100% 23.0M/23.0M [00:01<00:00, 20.3MB/s]\n",
            "  | Name       | Type           | Params\n",
            "----------------------------------------------\n",
            "0 | encoder    | Encoder        | 5.4 M \n",
            "1 | decoder    | Decoder        | 594 K \n",
            "2 | head       | Linear         | 18.3 K\n",
            "3 | text_embed | TokenEmbedding | 18.6 K\n",
            "4 | dropout    | Dropout        | 0     \n",
            "----------------------------------------------\n",
            "6.0 M     Trainable params\n",
            "0         Non-trainable params\n",
            "6.0 M     Total params\n",
            "24.073    Total estimated model params size (MB)\n",
            "Using 16bit native Automatic Mixed Precision (AMP)\n",
            "GPU available: True, used: True\n",
            "TPU available: False, using: 0 TPU cores\n",
            "IPU available: False, using: 0 IPUs\n",
            "HPU available: False, using: 0 HPUs\n",
            "LOCAL_RANK: 0 - CUDA_VISIBLE_DEVICES: [0]\n",
            "Loading `train_dataloader` to estimate number of stepping batches.\n",
            "[2023-04-15 12:17:42,578][strhub.data.dataset][INFO] - dataset root:\t/content/parseq/data/train/real\n",
            "[2023-04-15 12:17:42,597][strhub.data.dataset][INFO] - \tlmdb:\t.\tnum samples: 6990\n",
            "/usr/local/lib/python3.9/dist-packages/pytorch_lightning/trainer/trainer.py:1933: PossibleUserWarning: The number of training batches (19) is smaller than the logging interval Trainer(log_every_n_steps=50). Set a lower value for log_every_n_steps if you want to see logs for the training epoch.\n",
            "  rank_zero_warn(\n",
            "2023-04-15 12:17:44.048874: I tensorflow/core/platform/cpu_feature_guard.cc:182] This TensorFlow binary is optimized to use available CPU instructions in performance-critical operations.\n",
            "To enable the following instructions: AVX2 AVX512F FMA, in other operations, rebuild TensorFlow with the appropriate compiler flags.\n",
            "2023-04-15 12:17:45.896295: W tensorflow/compiler/tf2tensorrt/utils/py_utils.cc:38] TF-TRT Warning: Could not find TensorRT\n",
            "Sanity Checking: 0it [00:00, ?it/s][2023-04-15 12:17:48,065][strhub.data.dataset][INFO] - dataset root:\t/content/parseq/data/val\n",
            "[2023-04-15 12:17:48,070][strhub.data.dataset][INFO] - \tlmdb:\t.\tnum samples: 998\n",
            "Epoch 0:   0% 0/22 [00:00<?, ?it/s] \n",
            "Validation: 0it [00:00, ?it/s]\u001b[A\n",
            "Validation:   0% 0/3 [00:00<?, ?it/s]\u001b[A\n",
            "Validation DataLoader 0:   0% 0/3 [00:00<?, ?it/s]\u001b[A\n",
            "Validation DataLoader 0: 100% 3/3 [00:01<00:00,  2.85it/s]\u001b[A\n",
            "Epoch 0:   0% 0/22 [00:14<?, ?it/s, loss=1.33, v_num=.]\n",
            "Epoch 1:   0% 0/22 [00:00<?, ?it/s, loss=0.831, v_num=.]\n",
            "Validation: 0it [00:00, ?it/s]\u001b[A\n",
            "Validation:   0% 0/3 [00:00<?, ?it/s]\u001b[A\n",
            "Validation DataLoader 0:   0% 0/3 [00:00<?, ?it/s]\u001b[A\n",
            "Validation DataLoader 0: 100% 3/3 [00:00<00:00,  3.02it/s]\u001b[A\n",
            "Epoch 1:   0% 0/22 [00:12<?, ?it/s, loss=0.201, v_num=.]\n",
            "Epoch 2:   0% 0/22 [00:00<?, ?it/s, loss=0.0874, v_num=.]\n",
            "Validation: 0it [00:00, ?it/s]\u001b[A\n",
            "Validation:   0% 0/3 [00:00<?, ?it/s]\u001b[A\n",
            "Validation DataLoader 0:   0% 0/3 [00:00<?, ?it/s]\u001b[A\n",
            "Validation DataLoader 0: 100% 3/3 [00:01<00:00,  2.65it/s]\u001b[A\n",
            "Epoch 2:   0% 0/22 [00:12<?, ?it/s, loss=0.0533, v_num=.]\n",
            "Epoch 3:   0% 0/22 [00:00<?, ?it/s, loss=0.0395, v_num=.]\n",
            "Validation: 0it [00:00, ?it/s]\u001b[A\n",
            "Validation:   0% 0/3 [00:00<?, ?it/s]\u001b[A\n",
            "Validation DataLoader 0:   0% 0/3 [00:00<?, ?it/s]\u001b[A\n",
            "Validation DataLoader 0: 100% 3/3 [00:01<00:00,  2.46it/s]\u001b[A\n",
            "Epoch 3:   0% 0/22 [00:11<?, ?it/s, loss=0.0314, v_num=.]\n",
            "Epoch 4:   0% 0/22 [00:00<?, ?it/s, loss=0.0297, v_num=.]\n",
            "Validation: 0it [00:00, ?it/s]\u001b[A\n",
            "Validation:   0% 0/3 [00:00<?, ?it/s]\u001b[A\n",
            "Validation DataLoader 0:   0% 0/3 [00:00<?, ?it/s]\u001b[A\n",
            "Validation DataLoader 0: 100% 3/3 [00:01<00:00,  2.31it/s]\u001b[A\n",
            "Epoch 4:   0% 0/22 [00:12<?, ?it/s, loss=0.0298, v_num=.]\n",
            "Epoch 5:   0% 0/22 [00:00<?, ?it/s, loss=0.0257, v_num=.]\n",
            "Validation: 0it [00:00, ?it/s]\u001b[A\n",
            "Validation:   0% 0/3 [00:00<?, ?it/s]\u001b[A\n",
            "Validation DataLoader 0:   0% 0/3 [00:00<?, ?it/s]\u001b[A\n",
            "Validation DataLoader 0: 100% 3/3 [00:01<00:00,  2.75it/s]\u001b[A\n",
            "Epoch 5:   0% 0/22 [00:12<?, ?it/s, loss=0.0251, v_num=.]\n",
            "Epoch 6:   0% 0/22 [00:00<?, ?it/s, loss=0.0262, v_num=.]\n",
            "Validation: 0it [00:00, ?it/s]\u001b[A\n",
            "Validation:   0% 0/3 [00:00<?, ?it/s]\u001b[A\n",
            "Validation DataLoader 0:   0% 0/3 [00:00<?, ?it/s]\u001b[A\n",
            "Validation DataLoader 0: 100% 3/3 [00:01<00:00,  2.05it/s]\u001b[A\n",
            "Epoch 6:   0% 0/22 [00:12<?, ?it/s, loss=0.0242, v_num=.]\n",
            "Epoch 7:   0% 0/22 [00:00<?, ?it/s, loss=0.0254, v_num=.]\n",
            "Validation: 0it [00:00, ?it/s]\u001b[A\n",
            "Validation:   0% 0/3 [00:00<?, ?it/s]\u001b[A\n",
            "Validation DataLoader 0:   0% 0/3 [00:00<?, ?it/s]\u001b[A\n",
            "Validation DataLoader 0: 100% 3/3 [00:01<00:00,  2.64it/s]\u001b[A\n",
            "Epoch 7:   0% 0/22 [00:11<?, ?it/s, loss=0.0241, v_num=.]\n",
            "Epoch 8:   0% 0/22 [00:00<?, ?it/s, loss=0.023, v_num=.]\n",
            "Validation: 0it [00:00, ?it/s]\u001b[A\n",
            "Validation:   0% 0/3 [00:00<?, ?it/s]\u001b[A\n",
            "Epoch 8:   0% 0/22 [00:11<?, ?it/s, loss=0.023, v_num=.]\n",
            "Validation DataLoader 0: 100% 3/3 [00:01<00:00,  2.48it/s]\u001b[A\n",
            "Epoch 8:   0% 0/22 [00:12<?, ?it/s, loss=0.0204, v_num=.]\n",
            "Epoch 9:   0% 0/22 [00:00<?, ?it/s, loss=0.0177, v_num=.]\n",
            "Validation: 0it [00:00, ?it/s]\u001b[A\n",
            "Validation:   0% 0/3 [00:00<?, ?it/s]\u001b[A\n",
            "Epoch 9:   0% 0/22 [00:11<?, ?it/s, loss=0.0177, v_num=.]\n",
            "Validation DataLoader 0: 100% 3/3 [00:01<00:00,  2.07it/s]\u001b[A\n",
            "Epoch 9:   0% 0/22 [00:12<?, ?it/s, loss=0.0192, v_num=.]\n",
            "Epoch 10:   0% 0/22 [00:00<?, ?it/s, loss=0.0211, v_num=.]\n",
            "Validation: 0it [00:00, ?it/s]\u001b[A\n",
            "Validation:   0% 0/3 [00:00<?, ?it/s]\u001b[A\n",
            "Epoch 10:   0% 0/22 [00:11<?, ?it/s, loss=0.0211, v_num=.]\n",
            "Validation DataLoader 0: 100% 3/3 [00:01<00:00,  2.24it/s]\u001b[A\n",
            "Epoch 10:   0% 0/22 [00:12<?, ?it/s, loss=0.0254, v_num=.]\n",
            "Epoch 11:   0% 0/22 [00:00<?, ?it/s, loss=0.0249, v_num=.]\n",
            "Epoch 11:   0% 0/22 [00:10<?, ?it/s, loss=0.0249, v_num=.]\n",
            "Validation:   0% 0/3 [00:00<?, ?it/s]\u001b[A\n",
            "Validation DataLoader 0:   0% 0/3 [00:00<?, ?it/s]\u001b[A\n",
            "Validation DataLoader 0: 100% 3/3 [00:01<00:00,  2.23it/s]\u001b[A\n",
            "Epoch 11:   0% 0/22 [00:12<?, ?it/s, loss=0.0212, v_num=.]\n",
            "Epoch 12:   0% 0/22 [00:00<?, ?it/s, loss=0.0223, v_num=.]\n",
            "Epoch 12:   0% 0/22 [00:10<?, ?it/s, loss=0.0223, v_num=.]\n",
            "Validation:   0% 0/3 [00:00<?, ?it/s]\u001b[A\n",
            "Validation DataLoader 0:   0% 0/3 [00:00<?, ?it/s]\u001b[A\n",
            "Validation DataLoader 0: 100% 3/3 [00:01<00:00,  2.28it/s]\u001b[A\n",
            "Epoch 12:   0% 0/22 [00:12<?, ?it/s, loss=0.0197, v_num=.]\n",
            "Epoch 13:   0% 0/22 [00:00<?, ?it/s, loss=0.0202, v_num=.]\n",
            "Epoch 13:   0% 0/22 [00:10<?, ?it/s, loss=0.0202, v_num=.]\n",
            "Validation:   0% 0/3 [00:00<?, ?it/s]\u001b[A\n",
            "Validation DataLoader 0:   0% 0/3 [00:00<?, ?it/s]\u001b[A\n",
            "Validation DataLoader 0: 100% 3/3 [00:01<00:00,  2.16it/s]\u001b[A\n",
            "Epoch 13:   0% 0/22 [00:12<?, ?it/s, loss=0.0245, v_num=.]\n",
            "Epoch 13: 100% 22/22 [00:20<00:00,  1.08it/s, loss=0.0235, v_num=.]/usr/local/lib/python3.9/dist-packages/pytorch_lightning/callbacks/stochastic_weight_avg.py:189: UserWarning: SWA is currently only supported every epoch. Found LRSchedulerConfig(scheduler=<torch.optim.lr_scheduler.OneCycleLR object at 0x7fbf71116e50>, name=None, interval='step', frequency=1, reduce_on_plateau=False, monitor=None, strict=True, opt_idx=0)\n",
            "  rank_zero_warn(f\"SWA is currently only supported every epoch. Found {scheduler_cfg}\")\n",
            "Swapping scheduler `OneCycleLR` for `SWALR`\n",
            "Epoch 14:   0% 0/22 [00:00<?, ?it/s, loss=0.0235, v_num=.]\n",
            "Epoch 14:   0% 0/22 [00:10<?, ?it/s, loss=0.0235, v_num=.]\n",
            "Validation:   0% 0/3 [00:00<?, ?it/s]\u001b[A\n",
            "Validation DataLoader 0:   0% 0/3 [00:00<?, ?it/s]\u001b[A\n",
            "Validation DataLoader 0: 100% 3/3 [00:01<00:00,  2.08it/s]\u001b[A\n",
            "Epoch 14:   0% 0/22 [00:13<?, ?it/s, loss=0.0178, v_num=.]\n",
            "Epoch 15:   0% 0/22 [00:00<?, ?it/s, loss=0.0173, v_num=.]\n",
            "Validation: 0it [00:00, ?it/s]\u001b[A\n",
            "Validation:   0% 0/3 [00:00<?, ?it/s]\u001b[A\n",
            "Validation DataLoader 0:   0% 0/3 [00:00<?, ?it/s]\u001b[A\n",
            "Validation DataLoader 0: 100% 3/3 [00:01<00:00,  2.09it/s]\u001b[A\n",
            "Epoch 15:   0% 0/22 [00:12<?, ?it/s, loss=0.0179, v_num=.]\n",
            "Epoch 16:   0% 0/22 [00:00<?, ?it/s, loss=0.0173, v_num=.]\n",
            "Validation: 0it [00:00, ?it/s]\u001b[A\n",
            "Validation:   0% 0/3 [00:00<?, ?it/s]\u001b[A\n",
            "Validation DataLoader 0:   0% 0/3 [00:00<?, ?it/s]\u001b[A\n",
            "Validation DataLoader 0: 100% 3/3 [00:01<00:00,  2.08it/s]\u001b[A\n",
            "Epoch 16:   0% 0/22 [00:12<?, ?it/s, loss=0.0192, v_num=.]\n",
            "Epoch 17:   0% 0/22 [00:00<?, ?it/s, loss=0.0208, v_num=.]\n",
            "Validation: 0it [00:00, ?it/s]\u001b[A\n",
            "Validation:   0% 0/3 [00:00<?, ?it/s]\u001b[A\n",
            "Validation DataLoader 0:   0% 0/3 [00:00<?, ?it/s]\u001b[A\n",
            "Validation DataLoader 0: 100% 3/3 [00:01<00:00,  2.11it/s]\u001b[A\n",
            "Epoch 17:   0% 0/22 [00:11<?, ?it/s, loss=0.0234, v_num=.]\n",
            "Epoch 18:   0% 0/22 [00:00<?, ?it/s, loss=0.0262, v_num=.]\n",
            "Validation: 0it [00:00, ?it/s]\u001b[A\n",
            "Validation:   0% 0/3 [00:00<?, ?it/s]\u001b[A\n",
            "Validation DataLoader 0:   0% 0/3 [00:00<?, ?it/s]\u001b[A\n",
            "Validation DataLoader 0: 100% 3/3 [00:01<00:00,  2.01it/s]\u001b[A\n",
            "Epoch 18:   0% 0/22 [00:12<?, ?it/s, loss=0.025, v_num=.] \n",
            "Epoch 19:   0% 0/22 [00:00<?, ?it/s, loss=0.0228, v_num=.]\n",
            "Validation: 0it [00:00, ?it/s]\u001b[A\n",
            "Validation:   0% 0/3 [00:00<?, ?it/s]\u001b[A\n",
            "Validation DataLoader 0:   0% 0/3 [00:00<?, ?it/s]\u001b[A\n",
            "Validation DataLoader 0: 100% 3/3 [00:01<00:00,  2.18it/s]\u001b[A\n",
            "Epoch 19:   0% 0/22 [00:12<?, ?it/s, loss=0.0158, v_num=.]\n",
            "Epoch 19: 100% 22/22 [00:21<00:00,  1.04it/s, loss=0.0147, v_num=.]\n"
          ]
        }
      ]
    },
    {
      "cell_type": "markdown",
      "source": [
        "## Replace the .ckpt path using the one from training output "
      ],
      "metadata": {
        "id": "rJbzMxyq0OfR"
      }
    },
    {
      "cell_type": "code",
      "source": [
        "!python test.py /path/to/last.ckpt --custom"
      ],
      "metadata": {
        "colab": {
          "base_uri": "https://localhost:8080/"
        },
        "id": "7ktultW1nU1k",
        "outputId": "e1df7bd6-1771-4814-d148-da2f6670e09d"
      },
      "execution_count": null,
      "outputs": [
        {
          "output_type": "stream",
          "name": "stdout",
          "text": [
            "Additional keyword arguments: {'charset_test': '0123456789abcdefghijklmnopqrstuvwxyz'}\n",
            "/usr/local/lib/python3.9/dist-packages/torch/utils/data/dataloader.py:478: UserWarning: This DataLoader will create 4 worker processes in total. Our suggested max number of worker in current system is 2, which is smaller than what this DataLoader is going to create. Please be aware that excessive worker creation might get DataLoader running slow or even freeze, lower the worker number to avoid potential slowness/freeze if necessary.\n",
            "  warnings.warn(_create_warning_msg(\n",
            "real: 100% 4/4 [00:04<00:00,  1.18s/it]\n",
            "Custom set:\n",
            "| Dataset  | # samples | Accuracy | 1 - NED | Confidence | Label Length |\n",
            "|:--------:|----------:|---------:|--------:|-----------:|-------------:|\n",
            "| real     |      1997 |    99.90 |   99.98 |      99.61 |         6.00 |\n",
            "|----------|-----------|----------|---------|------------|--------------|\n",
            "| Combined |      1997 |    99.90 |   99.98 |      99.61 |         6.00 |\n",
            "\n",
            "\n"
          ]
        }
      ]
    },
    {
      "cell_type": "code",
      "source": [],
      "metadata": {
        "id": "JsDaejWV4pfO"
      },
      "execution_count": null,
      "outputs": []
    }
  ]
}